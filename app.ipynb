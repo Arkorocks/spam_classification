{
 "cells": [
  {
   "cell_type": "code",
   "execution_count": null,
   "id": "7c908b0d-176f-4cf4-9375-44fb9c2b3353",
   "metadata": {
    "editable": true,
    "slideshow": {
     "slide_type": ""
    },
    "tags": []
   },
   "outputs": [],
   "source": [
    "!pip install streamlit\n"
   ]
  },
  {
   "cell_type": "code",
   "execution_count": null,
   "id": "0c71af2c-eceb-4302-ad96-79c7d1d535be",
   "metadata": {},
   "outputs": [],
   "source": [
    "import streamlit as st\n",
    "import pickle"
   ]
  },
  {
   "cell_type": "code",
   "execution_count": null,
   "id": "adb39ad8-04fb-48f8-96b2-d3212d998d29",
   "metadata": {},
   "outputs": [],
   "source": [
    "import string\n",
    "from nltk.corpus import stopwords\n",
    "import nltk\n",
    "from nltk.stem.porter import PorterStemmer"
   ]
  },
  {
   "cell_type": "code",
   "execution_count": null,
   "id": "e09645ab-b54d-4c31-8e10-97466fe1273e",
   "metadata": {},
   "outputs": [],
   "source": [
    "\n",
    "ps = PorterStemmer()"
   ]
  },
  {
   "cell_type": "code",
   "execution_count": null,
   "id": "05418005-5bc6-4d2a-a649-e6f9f4221581",
   "metadata": {},
   "outputs": [],
   "source": [
    "def transform_text(text):\n",
    "    text = text.lower()\n",
    "    text = nltk.word_tokenize(text)\n",
    "\n",
    "    y = []\n",
    "    for i in text:\n",
    "        if i.isalnum():\n",
    "            y.append(i)\n",
    "\n",
    "    text = y[:]\n",
    "    y.clear()\n",
    "\n",
    "    for i in text:\n",
    "        if i not in stopwords.words('english') and i not in string.punctuation:\n",
    "            y.append(i)\n",
    "\n",
    "    text = y[:]\n",
    "    y.clear()\n",
    "\n",
    "    for i in text:\n",
    "        y.append(ps.stem(i))\n",
    "\n",
    "    return \" \".join(y)"
   ]
  },
  {
   "cell_type": "code",
   "execution_count": null,
   "id": "da09798d-699c-47ee-9708-021f4728def8",
   "metadata": {},
   "outputs": [],
   "source": [
    "tfidf = pickle.load(open('vectorizer.pkl','rb'))\n",
    "model = pickle.load(open('model.pkl','rb'))\n",
    "\n",
    "st.title(\"Email/SMS Spam Classifier\")\n",
    "\n",
    "input_sms = st.text_area(\"Enter the message\")\n",
    "\n",
    "if st.button('Predict'):\n",
    "\n",
    "    # 1. preprocess\n",
    "    transformed_sms = transform_text(input_sms)\n",
    "    # 2. vectorize\n",
    "    vector_input = tfidf.transform([transformed_sms])\n",
    "    # 3. predict\n",
    "    result = model.predict(vector_input)[0]\n",
    "    # 4. Display\n",
    "    if result == 1:\n",
    "        st.header(\"Spam\")\n",
    "    else:\n",
    "        st.header(\"Not Spam\")"
   ]
  },
  {
   "cell_type": "code",
   "execution_count": null,
   "id": "189dba13-5b4f-4992-b95f-8bf326e21c3d",
   "metadata": {},
   "outputs": [],
   "source": []
  },
  {
   "cell_type": "code",
   "execution_count": null,
   "id": "8a4709ee-41de-496f-8dd8-179481554520",
   "metadata": {},
   "outputs": [],
   "source": [
    "!streamlit run app.py"
   ]
  },
  {
   "cell_type": "code",
   "execution_count": null,
   "id": "2e7c2e02-0015-42c5-8095-55a9f00b7a2e",
   "metadata": {},
   "outputs": [],
   "source": []
  }
 ],
 "metadata": {
  "kernelspec": {
   "display_name": "Python 3 (ipykernel)",
   "language": "python",
   "name": "python3"
  },
  "language_info": {
   "codemirror_mode": {
    "name": "ipython",
    "version": 3
   },
   "file_extension": ".py",
   "mimetype": "text/x-python",
   "name": "python",
   "nbconvert_exporter": "python",
   "pygments_lexer": "ipython3",
   "version": "3.12.4"
  }
 },
 "nbformat": 4,
 "nbformat_minor": 5
}
